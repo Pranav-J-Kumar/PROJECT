{
  "nbformat": 4,
  "nbformat_minor": 0,
  "metadata": {
    "colab": {
      "name": "Untitled0.ipynb",
      "provenance": [],
      "authorship_tag": "ABX9TyN5R6cEFEDX9US0lIsw3qlF",
      "include_colab_link": true
    },
    "kernelspec": {
      "name": "python3",
      "display_name": "Python 3"
    },
    "language_info": {
      "name": "python"
    }
  },
  "cells": [
    {
      "cell_type": "markdown",
      "metadata": {
        "id": "view-in-github",
        "colab_type": "text"
      },
      "source": [
        "<a href=\"https://colab.research.google.com/github/Pranav-J-Kumar/PROJECT/blob/main/Untitled0.ipynb\" target=\"_parent\"><img src=\"https://colab.research.google.com/assets/colab-badge.svg\" alt=\"Open In Colab\"/></a>"
      ]
    },
    {
      "cell_type": "code",
      "execution_count": 1,
      "metadata": {
        "colab": {
          "base_uri": "https://localhost:8080/",
          "height": 130
        },
        "id": "A4VDOE8AJHR-",
        "outputId": "094742a8-e359-4988-d235-f1b066896e4b"
      },
      "outputs": [
        {
          "output_type": "error",
          "ename": "SyntaxError",
          "evalue": "ignored",
          "traceback": [
            "\u001b[0;36m  File \u001b[0;32m\"<ipython-input-1-b2795a31dfa9>\"\u001b[0;36m, line \u001b[0;32m1\u001b[0m\n\u001b[0;31m    <html>\u001b[0m\n\u001b[0m    ^\u001b[0m\n\u001b[0;31mSyntaxError\u001b[0m\u001b[0;31m:\u001b[0m invalid syntax\n"
          ]
        }
      ],
      "source": [
        "<html>   \n",
        "<head>  \n",
        "<meta name=\"viewport\" content=\"width=device-width, initial-scale=1\">  \n",
        "<title> Login Page </title>  \n",
        "<style>   \n",
        "Body {  \n",
        "  font-family: Calibri, Helvetica, sans-serif;  \n",
        "  background-color: pink;  \n",
        "}  \n",
        "button {   \n",
        "       background-color: #4CAF50;   \n",
        "       width: 100%;  \n",
        "        color: orange;   \n",
        "        padding: 15px;   \n",
        "        margin: 10px 0px;   \n",
        "        border: none;   \n",
        "        cursor: pointer;   \n",
        "         }   \n",
        " form {   \n",
        "        border: 3px solid #f1f1f1;   \n",
        "    }   \n",
        " input[type=text], input[type=password] {   \n",
        "        width: 100%;   \n",
        "        margin: 8px 0;  \n",
        "        padding: 12px 20px;   \n",
        "        display: inline-block;   \n",
        "        border: 2px solid green;   \n",
        "        box-sizing: border-box;   \n",
        "    }  \n",
        " button:hover {   \n",
        "        opacity: 0.7;   \n",
        "    }   \n",
        "  .cancelbtn {   \n",
        "        width: auto;   \n",
        "        padding: 10px 18px;  \n",
        "        margin: 10px 5px;  \n",
        "    }   \n",
        "        \n",
        "     \n",
        " .container {   \n",
        "        padding: 25px;   \n",
        "        background-color: lightblue;  \n",
        "    }   \n",
        "</style>   \n",
        "</head>    \n",
        "<body>    \n",
        "    <center> <h1>  Login Form </h1> </center>   \n",
        "    <form>  \n",
        "        <div class=\"container\">   \n",
        "            <label>Username : </label>   \n",
        "            <input type=\"text\" placeholder=\"Enter Username\" name=\"username\" required>  \n",
        "            <label>Password : </label>   \n",
        "            <input type=\"password\" placeholder=\"Enter Password\" name=\"password\" required>  \n",
        "            <button type=\"submit\">Login</button>   \n",
        "            <input type=\"checkbox\" checked=\"checked\"> Remember me   \n",
        "            <button type=\"button\" class=\"cancelbtn\"> Cancel</button>   \n",
        "            Forgot <a href=\"#\"> password? </a>   \n",
        "        </div>   \n",
        "    </form>     \n",
        "</body>     \n",
        "</html>"
      ]
    },
    {
      "cell_type": "code",
      "source": [
        "function initMap(){\n",
        "\n",
        "    // Map option\n",
        "\n",
        "    var options = {\n",
        "        center: {lat: 38.3460 , lng:-0.4907 },\n",
        "        zoom: 10\n",
        "    }\n",
        "\n",
        "    //New Map\n",
        "    map = new google.maps.Map(document.getElementById(\"map\"),options)\n",
        "\n",
        "    //listen for click on map location\n",
        "\n",
        "    google.maps.event.addListener(map, \"click\", (event) => {\n",
        "        //add Marker\n",
        "        addMarker({location:event.latLng});\n",
        "    })\n",
        "\n",
        "\n",
        "\n",
        "    //Marker\n",
        "/*\n",
        "    const marker = new google.maps.Marker({\n",
        "    position:{lat: 37.9922, lng: -1.1307},\n",
        "    map:map,\n",
        "    icon:\"https://img.icons8.com/nolan/2x/marker.png\"\n",
        "    });\n",
        "\n",
        "    //InfoWindow\n",
        "\n",
        "    const detailWindow = new google.maps.InfoWindow({\n",
        "        content: `<h2>cherthala</h2>`\n",
        "    });\n",
        "\n",
        "    marker.addListener(\"mouseover\", () =>{\n",
        "        detailWindow.open(map, marker);\n",
        "    })\n",
        "    */\n",
        "\n",
        "    //Add Markers to Array\n",
        "\n",
        "    let MarkerArray = [ {location:{lat: 37.9922, lng: -1.1307}, \n",
        "        imageIcon: \"https://img.icons8.com/nolan/2x/marker.png\", \n",
        "        content: `<h2>cherthala</h2>`},\n",
        "\n",
        "        {location:{lat: 39.4699, lng: -0.3763}},\n",
        "\n",
        "        {location:{lat: 38.5411, lng: -0.1225},content: `<h2>Alappuzha</h2>` }\n",
        "\n",
        "\n",
        "\n",
        "    ]\n",
        "\n",
        "    // loop through marker\n",
        "    for (let i = 0; i < MarkerArray.length; i++){\n",
        "        addMarker(MarkerArray[i]);\n",
        "\n",
        "    }\n",
        "\n",
        "    // Add Marker\n",
        "\n",
        "    function addMarker(property){\n",
        "\n",
        "        const marker = new google.maps.Marker({\n",
        "            position:property.location,\n",
        "            map:map,\n",
        "            //icon: property.imageIcon\n",
        "            });\n",
        "\n",
        "            // Check for custom Icon\n",
        "\n",
        "            if(property.imageIcon){\n",
        "                // set image icon\n",
        "                marker.setIcon(property.imageIcon)\n",
        "            }\n",
        "\n",
        "            if(property.content){\n",
        "\n",
        "            const detailWindow = new google.maps.InfoWindow({\n",
        "            content: property.content\n",
        "    });\n",
        "    \n",
        "    marker.addListener(\"mouseover\", () =>{\n",
        "        detailWindow.open(map, marker);\n",
        "    })\n",
        "}"
      ],
      "metadata": {
        "id": "3aMv9OlTJl1p"
      },
      "execution_count": null,
      "outputs": []
    },
    {
      "cell_type": "code",
      "source": [
        ""
      ],
      "metadata": {
        "id": "-wsD3QNUJ87g"
      },
      "execution_count": null,
      "outputs": []
    }
  ]
}